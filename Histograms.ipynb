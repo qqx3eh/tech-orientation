{
 "cells": [
  {
   "cell_type": "code",
   "execution_count": 12,
   "id": "028fa328-c8bb-4d68-b900-77bfac13421d",
   "metadata": {},
   "outputs": [],
   "source": [
    "import numpy as np\n",
    "import matplotlib.pyplot as plt"
   ]
  },
  {
   "cell_type": "code",
   "execution_count": 13,
   "id": "a32392e3-e1fa-4e0c-9baf-01fb7d0299e2",
   "metadata": {},
   "outputs": [
    {
     "data": {
      "text/plain": [
       "(array([1., 1., 1., 1., 1., 1., 1., 1., 1., 1.]),\n",
       " array([0. , 0.7, 1.4, 2.1, 2.8, 3.5, 4.2, 4.9, 5.6, 6.3, 7. ]),\n",
       " <BarContainer object of 10 artists>)"
      ]
     },
     "execution_count": 13,
     "metadata": {},
     "output_type": "execute_result"
    },
    {
     "data": {
      "image/png": "[encoded data removed]",
      "text/plain": [
       "<Figure size 432x288 with 1 Axes>"
      ]
     },
     "metadata": {
      "needs_background": "light"
     },
     "output_type": "display_data"
    }
   ],
   "source": [
    "# Binomial\n",
    "# Only 2 outcomes success or failure\n",
    "x = np.random.binomial(10,.25,100)\n",
    "\n",
    "counts, bins = np.histogram(x)\n",
    "plt.stairs(counts, bins)\n",
    "plt.hist(bins[:-1], bins, counts)"
   ]
  },
  {
   "cell_type": "code",
   "execution_count": 15,
   "id": "4ddec341-650b-4bec-b989-4e1bdeba6255",
   "metadata": {},
   "outputs": [
    {
     "data": {
      "text/plain": [
       "(array([1., 1., 1., 1., 1., 1., 1., 1., 1., 1.]),\n",
       " array([ 4. ,  5.6,  7.2,  8.8, 10.4, 12. , 13.6, 15.2, 16.8, 18.4, 20. ]),\n",
       " <BarContainer object of 10 artists>)"
      ]
     },
     "execution_count": 15,
     "metadata": {},
     "output_type": "execute_result"
    },
    {
     "data": {
      "image/png": "[encoded data removed]",
      "text/plain": [
       "<Figure size 432x288 with 1 Axes>"
      ]
     },
     "metadata": {
      "needs_background": "light"
     },
     "output_type": "display_data"
    }
   ],
   "source": [
    "# Poisson\n",
    "# large quanity small probability\n",
    "x = np.random.poisson(10,100)\n",
    "\n",
    "counts, bins = np.histogram(x)\n",
    "plt.stairs(counts, bins)\n",
    "plt.hist(bins[:-1], bins, counts)"
   ]
  },
  {
   "cell_type": "code",
   "execution_count": 19,
   "id": "d49b0f74-b71d-4027-b9ca-b65fb638822a",
   "metadata": {},
   "outputs": [
    {
     "data": {
      "text/plain": [
       "(array([1., 1., 1., 1., 1., 1., 1., 1., 1., 1.]),\n",
       " array([-0.21595288, -0.16869075, -0.12142862, -0.07416649, -0.02690436,\n",
       "         0.02035777,  0.0676199 ,  0.11488203,  0.16214416,  0.20940628,\n",
       "         0.25666841]),\n",
       " <BarContainer object of 10 artists>)"
      ]
     },
     "execution_count": 19,
     "metadata": {},
     "output_type": "execute_result"
    },
    {
     "data": {
      "image/png": "[encoded data removed]",
      "text/plain": [
       "<Figure size 432x288 with 1 Axes>"
      ]
     },
     "metadata": {
      "needs_background": "light"
     },
     "output_type": "display_data"
    }
   ],
   "source": [
    "# Binomial\n",
    "\n",
    "x = np.random.normal(0,0.1,100)\n",
    "\n",
    "counts, bins = np.histogram(x)\n",
    "plt.stairs(counts, bins)\n",
    "plt.hist(bins[:-1], bins, counts)"
   ]
  },
  {
   "cell_type": "code",
   "execution_count": null,
   "id": "f1d31e25-4375-408c-a8b9-e120aaa53eec",
   "metadata": {},
   "outputs": [],
   "source": []
  }
 ],
 "metadata": {
  "kernelspec": {
   "display_name": "Python 3 (ipykernel)",
   "language": "python",
   "name": "python3"
  },
  "language_info": {
   "codemirror_mode": {
    "name": "ipython",
    "version": 3
   },
   "file_extension": ".py",
   "mimetype": "text/x-python",
   "name": "python",
   "nbconvert_exporter": "python",
   "pygments_lexer": "ipython3",
   "version": "3.9.12"
  }
 },
 "nbformat": 4,
 "nbformat_minor": 5
}
