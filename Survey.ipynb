{
 "cells": [
  {
   "cell_type": "code",
   "execution_count": 1,
   "id": "d7b91e7b-d6e3-4f78-9d72-ee4a8c87de45",
   "metadata": {},
   "outputs": [],
   "source": [
    "# load the data from the class hardware survey into memory using pandas, manipulate that data into a binnable form,\n",
    "# and make exploratory histographs of the features of the dataset."
   ]
  },
  {
   "cell_type": "code",
   "execution_count": null,
   "id": "d0ffbede-ebc9-4889-bbe6-957c159066b5",
   "metadata": {},
   "outputs": [],
   "source": []
  }
 ],
 "metadata": {
  "kernelspec": {
   "display_name": "Python 3 (ipykernel)",
   "language": "python",
   "name": "python3"
  },
  "language_info": {
   "codemirror_mode": {
    "name": "ipython",
    "version": 3
   },
   "file_extension": ".py",
   "mimetype": "text/x-python",
   "name": "python",
   "nbconvert_exporter": "python",
   "pygments_lexer": "ipython3",
   "version": "3.9.12"
  }
 },
 "nbformat": 4,
 "nbformat_minor": 5
}
